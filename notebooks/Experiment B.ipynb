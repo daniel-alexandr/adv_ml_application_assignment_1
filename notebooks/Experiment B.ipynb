{
 "cells": [
  {
   "cell_type": "code",
   "execution_count": 4,
   "id": "ca8748a7-9131-4ea0-9eca-d6141027158a",
   "metadata": {
    "tags": []
   },
   "outputs": [],
   "source": [
    "#  Importing required package\n",
    "\n",
    "import pandas as pd\n",
    "import numpy as np"
   ]
  },
  {
   "cell_type": "code",
   "execution_count": 6,
   "id": "f58ef4bc-191f-4553-adcd-875653293f25",
   "metadata": {
    "tags": []
   },
   "outputs": [],
   "source": [
    "# Loading the processed dataset from experiment A\n",
    "\n",
    "\n",
    "x_train= pd.read_csv('../data/processed/x_train_experiment_A.csv')\n",
    "x_val=pd.read_csv('../data/processed/x_val_experiment_A.csv')\n",
    "y_train=pd.read_csv('../data/processed/y_train_experiment_A.csv')\n",
    "y_val=pd.read_csv('../data/processed/y_val_experiment_A.csv')"
   ]
  }
 ],
 "metadata": {
  "kernelspec": {
   "display_name": "Python 3 (ipykernel)",
   "language": "python",
   "name": "python3"
  },
  "language_info": {
   "codemirror_mode": {
    "name": "ipython",
    "version": 3
   },
   "file_extension": ".py",
   "mimetype": "text/x-python",
   "name": "python",
   "nbconvert_exporter": "python",
   "pygments_lexer": "ipython3",
   "version": "3.9.13"
  }
 },
 "nbformat": 4,
 "nbformat_minor": 5
}
