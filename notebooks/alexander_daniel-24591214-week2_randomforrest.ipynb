{
 "cells": [
  {
   "cell_type": "code",
   "execution_count": 1,
   "id": "ca8748a7-9131-4ea0-9eca-d6141027158a",
   "metadata": {
    "tags": []
   },
   "outputs": [],
   "source": [
    "#  Importing required package\n",
    "\n",
    "import pandas as pd\n",
    "import numpy as np"
   ]
  },
  {
   "cell_type": "code",
   "execution_count": 2,
   "id": "f58ef4bc-191f-4553-adcd-875653293f25",
   "metadata": {
    "tags": []
   },
   "outputs": [],
   "source": [
    "# Loading the processed dataset from experiment A\n",
    "\n",
    "\n",
    "x_train= pd.read_csv('../data/processed/x_train_experiment_A.csv')\n",
    "x_val=pd.read_csv('../data/processed/x_val_experiment_A.csv')\n",
    "y_train=pd.read_csv('../data/processed/y_train_experiment_A.csv')\n",
    "y_val=pd.read_csv('../data/processed/y_val_experiment_A.csv')\n",
    "\n",
    "\n",
    "x_full=pd.read_csv('../data/processed/x_full_train_experiment_A.csv')\n",
    "y_full=pd.read_csv('../data/processed/y_full_train_experiment_A.csv')\n"
   ]
  },
  {
   "cell_type": "code",
   "execution_count": 3,
   "id": "a2be8e94-0cf5-41ea-8259-f9c999238048",
   "metadata": {
    "jupyter": {
     "source_hidden": true
    },
    "tags": []
   },
   "outputs": [],
   "source": [
    "# !git add .\n",
    "# !git commit -m \"Starting experiment B, loading processed data from experiment A\"\n",
    "# !git push"
   ]
  },
  {
   "cell_type": "code",
   "execution_count": 4,
   "id": "a85e6c5d-83ec-46c0-860b-564070751093",
   "metadata": {
    "tags": []
   },
   "outputs": [
    {
     "data": {
      "text/html": [
       "<div>\n",
       "<style scoped>\n",
       "    .dataframe tbody tr th:only-of-type {\n",
       "        vertical-align: middle;\n",
       "    }\n",
       "\n",
       "    .dataframe tbody tr th {\n",
       "        vertical-align: top;\n",
       "    }\n",
       "\n",
       "    .dataframe thead th {\n",
       "        text-align: right;\n",
       "    }\n",
       "</style>\n",
       "<table border=\"1\" class=\"dataframe\">\n",
       "  <thead>\n",
       "    <tr style=\"text-align: right;\">\n",
       "      <th></th>\n",
       "      <th>drafted</th>\n",
       "    </tr>\n",
       "  </thead>\n",
       "  <tbody>\n",
       "    <tr>\n",
       "      <th>0</th>\n",
       "      <td>0.0</td>\n",
       "    </tr>\n",
       "    <tr>\n",
       "      <th>1</th>\n",
       "      <td>0.0</td>\n",
       "    </tr>\n",
       "    <tr>\n",
       "      <th>2</th>\n",
       "      <td>0.0</td>\n",
       "    </tr>\n",
       "    <tr>\n",
       "      <th>3</th>\n",
       "      <td>0.0</td>\n",
       "    </tr>\n",
       "    <tr>\n",
       "      <th>4</th>\n",
       "      <td>0.0</td>\n",
       "    </tr>\n",
       "  </tbody>\n",
       "</table>\n",
       "</div>"
      ],
      "text/plain": [
       "   drafted\n",
       "0      0.0\n",
       "1      0.0\n",
       "2      0.0\n",
       "3      0.0\n",
       "4      0.0"
      ]
     },
     "execution_count": 4,
     "metadata": {},
     "output_type": "execute_result"
    }
   ],
   "source": [
    "y_full.head()"
   ]
  },
  {
   "cell_type": "code",
   "execution_count": 5,
   "id": "c2aeddb9-9395-487d-bf10-99e085e40dbf",
   "metadata": {
    "tags": []
   },
   "outputs": [],
   "source": [
    "# Using gridsearch to find best combination of hyperparameter\n",
    "from sklearn.ensemble import RandomForestClassifier\n",
    "from sklearn.model_selection import GridSearchCV\n",
    "\n",
    "# Define the parameter grid to search\n",
    "param_grid = {\n",
    "    'n_estimators': [5,10,50, 100, 200],\n",
    "    'max_depth': [None,5, 10, 20],\n",
    "    'min_samples_split': [2, 5, 10]\n",
    "}\n",
    "\n",
    "# Create a RandomForestClassifier instance\n",
    "rf_classifier = RandomForestClassifier(random_state=42)\n",
    "\n",
    "\n",
    "# Convert the single-column DataFrame to a 1D array\n",
    "\n",
    "array = y_full['drafted'].to_numpy()  \n",
    "\n",
    "# Create a GridSearchCV instance\n",
    "grid_search = GridSearchCV(estimator=rf_classifier, param_grid=param_grid, cv=5, scoring='recall')\n",
    "\n",
    "# Fit the GridSearchCV object to the training data\n",
    "# grid_search.fit(x_full, array)\n",
    "\n",
    "# Print the best parameters found\n",
    "# print(\"Best parameters:\", grid_search.best_params_)\n",
    "\n",
    "\n",
    "# Comment out grid search because the parameter "
   ]
  },
  {
   "cell_type": "code",
   "execution_count": 6,
   "id": "94dcd440-deb1-4c66-bae0-c93c30e64751",
   "metadata": {
    "tags": []
   },
   "outputs": [],
   "source": [
    "# The model using hyperparameter provided by gridsearch is not helpful enough to fix the overfitting issue from experiment A\n",
    "\n",
    "\n",
    "\n",
    "# Initiating the model with the hyperparameter obtained from gridsearch\n",
    "\n",
    "rf_classifier_B = RandomForestClassifier(random_state=42,\n",
    "                                         n_estimators=700, \n",
    "                                         max_depth=5, \n",
    "                                         min_samples_split=50)\n",
    "\n"
   ]
  },
  {
   "cell_type": "code",
   "execution_count": 7,
   "id": "0c8fb075-0711-41b2-a138-92ff4597ca21",
   "metadata": {
    "tags": []
   },
   "outputs": [
    {
     "name": "stderr",
     "output_type": "stream",
     "text": [
      "/var/folders/w6/skyqkqrx1_q7pbxvh4_c7g_00000gn/T/ipykernel_49749/3281028461.py:4: DataConversionWarning: A column-vector y was passed when a 1d array was expected. Please change the shape of y to (n_samples,), for example using ravel().\n",
      "  rf_classifier_B.fit(x_train, y_train)\n"
     ]
    },
    {
     "name": "stdout",
     "output_type": "stream",
     "text": [
      "              precision    recall  f1-score   support\n",
      "\n",
      "         0.0       0.98      0.96      0.97      1028\n",
      "         1.0       0.90      0.95      0.92       441\n",
      "\n",
      "    accuracy                           0.95      1469\n",
      "   macro avg       0.94      0.95      0.94      1469\n",
      "weighted avg       0.95      0.95      0.95      1469\n",
      "\n"
     ]
    }
   ],
   "source": [
    "# Fitting the rf_classifier_B\n",
    "\n",
    "\n",
    "rf_classifier_B.fit(x_train, y_train)\n",
    "predictions_train = rf_classifier_B.predict(x_train)\n",
    "\n",
    "\n",
    "# Classification report for training with undersampling\n",
    "\n",
    "from sklearn.metrics import recall_score, classification_report , accuracy_score\n",
    "\n",
    "report_train= classification_report(y_train, predictions_train)\n",
    "print(report_train)\n",
    "\n",
    "\n"
   ]
  },
  {
   "cell_type": "code",
   "execution_count": 8,
   "id": "fae97966-64a9-423d-ad47-55a68c30ee10",
   "metadata": {},
   "outputs": [
    {
     "data": {
      "text/plain": [
       "['../models/rf_experiment_B.joblib']"
      ]
     },
     "execution_count": 8,
     "metadata": {},
     "output_type": "execute_result"
    }
   ],
   "source": [
    "# Import dump from joblib\n",
    "\n",
    "from joblib import dump\n",
    "\n",
    "dump (rf_classifier_B,'../models/rf_experiment_B.joblib')\n",
    "\n"
   ]
  },
  {
   "cell_type": "code",
   "execution_count": 9,
   "id": "8d07fc5f-7c72-4c2a-9032-c342f68de734",
   "metadata": {
    "tags": []
   },
   "outputs": [
    {
     "name": "stdout",
     "output_type": "stream",
     "text": [
      "              precision    recall  f1-score   support\n",
      "\n",
      "         0.0       0.97      0.97      0.97       115\n",
      "         1.0       0.94      0.94      0.94        49\n",
      "\n",
      "    accuracy                           0.96       164\n",
      "   macro avg       0.96      0.96      0.96       164\n",
      "weighted avg       0.96      0.96      0.96       164\n",
      "\n"
     ]
    }
   ],
   "source": [
    "# predicting the validation data\n",
    "\n",
    "predictions_val = rf_classifier_B.predict(x_val)\n",
    "\n",
    "\n",
    "report_train= classification_report(y_val, predictions_val)\n",
    "print(report_train)\n"
   ]
  },
  {
   "cell_type": "code",
   "execution_count": 9,
   "id": "6926ecc6-7d18-40c1-aa45-7a2a60f5d46b",
   "metadata": {
    "tags": []
   },
   "outputs": [
    {
     "data": {
      "text/plain": [
       "<sklearn.metrics._plot.confusion_matrix.ConfusionMatrixDisplay at 0x146e8f460>"
      ]
     },
     "execution_count": 9,
     "metadata": {},
     "output_type": "execute_result"
    },
    {
     "data": {
      "image/png": "[encoded data removed]",
      "text/plain": [
       "<Figure size 640x480 with 2 Axes>"
      ]
     },
     "metadata": {},
     "output_type": "display_data"
    }
   ],
   "source": [
    "from sklearn.metrics import confusion_matrix, ConfusionMatrixDisplay\n",
    "\n",
    "# Confusion matrix for training\n",
    "ConfusionMatrixDisplay.from_estimator(rf_classifier_B, x_train, y_train, normalize='true')"
   ]
  },
  {
   "cell_type": "code",
   "execution_count": 10,
   "id": "b69f8346-0ade-4712-841f-6c36f416fd04",
   "metadata": {
    "tags": []
   },
   "outputs": [
    {
     "data": {
      "text/plain": [
       "<sklearn.metrics._plot.confusion_matrix.ConfusionMatrixDisplay at 0x117bfca90>"
      ]
     },
     "execution_count": 10,
     "metadata": {},
     "output_type": "execute_result"
    },
    {
     "data": {
      "image/png": "[encoded data removed]",
      "text/plain": [
       "<Figure size 640x480 with 2 Axes>"
      ]
     },
     "metadata": {},
     "output_type": "display_data"
    }
   ],
   "source": [
    "# Confusion matrix for validation\n",
    "ConfusionMatrixDisplay.from_estimator(rf_classifier_B, x_val, y_val, normalize='true')"
   ]
  },
  {
   "cell_type": "code",
   "execution_count": 11,
   "id": "43a1a7ee-c561-4ba6-90f3-bc29b312fa03",
   "metadata": {
    "tags": []
   },
   "outputs": [
    {
     "data": {
      "text/plain": [
       "<sklearn.metrics._plot.confusion_matrix.ConfusionMatrixDisplay at 0x117c69820>"
      ]
     },
     "execution_count": 11,
     "metadata": {},
     "output_type": "execute_result"
    },
    {
     "data": {
      "image/png": "[encoded data removed]",
      "text/plain": [
       "<Figure size 640x480 with 2 Axes>"
      ]
     },
     "metadata": {},
     "output_type": "display_data"
    }
   ],
   "source": [
    "# Confusion matrix for full data train\n",
    "ConfusionMatrixDisplay.from_estimator(rf_classifier_B, x_full, y_full, normalize='true')"
   ]
  },
  {
   "cell_type": "code",
   "execution_count": 12,
   "id": "280642a9-5ee9-418f-9b07-a3f7aa9b067a",
   "metadata": {
    "tags": []
   },
   "outputs": [
    {
     "data": {
      "text/plain": [
       "0.9889841799235907"
      ]
     },
     "execution_count": 12,
     "metadata": {},
     "output_type": "execute_result"
    }
   ],
   "source": [
    "# Getting the ROC score for training\n",
    "\n",
    "\n",
    "from sklearn.metrics import roc_auc_score\n",
    "\n",
    "proba_predictions = rf_classifier_B.predict_proba(x_train)\n",
    "\n",
    "roc_auc = roc_auc_score(y_train, proba_predictions[:, 1])\n",
    "\n",
    "roc_auc"
   ]
  },
  {
   "cell_type": "code",
   "execution_count": 13,
   "id": "069cf6b7-bdc8-4d4f-afb6-7db0738c8635",
   "metadata": {
    "tags": []
   },
   "outputs": [
    {
     "data": {
      "text/plain": [
       "0.9866903283052352"
      ]
     },
     "execution_count": 13,
     "metadata": {},
     "output_type": "execute_result"
    }
   ],
   "source": [
    "# Getting the ROC score for val\n",
    "\n",
    "proba_predictions = rf_classifier_B.predict_proba(x_val)\n",
    "\n",
    "roc_auc = roc_auc_score(y_val, proba_predictions[:, 1])\n",
    "\n",
    "roc_auc"
   ]
  },
  {
   "cell_type": "code",
   "execution_count": 14,
   "id": "4b1aed8d-6a1d-4fb2-9ecc-c24cf9dbd6ab",
   "metadata": {
    "tags": []
   },
   "outputs": [],
   "source": [
    "test_dataset=pd.read_csv('../data/raw/test.csv')\n",
    "\n",
    "x_test_processed=pd.read_csv('../data/processed/experiment_A_test_x.csv')"
   ]
  },
  {
   "cell_type": "code",
   "execution_count": 15,
   "id": "60086858-aab2-4f64-8786-e5541065aecd",
   "metadata": {
    "tags": []
   },
   "outputs": [],
   "source": [
    "prediction_test= rf_classifier_B.predict(x_test_processed)\n",
    "\n",
    "proba_predictions_test = rf_classifier_B.predict_proba(x_test_processed)\n",
    "\n",
    "\n",
    "player_id=test_dataset['player_id']\n",
    "\n",
    "# Converting series to dataframe\n",
    "test_prediction = pd.DataFrame({'player_id': player_id})\n",
    "\n",
    "# Adding the probability\n",
    "test_prediction['drafted']=proba_predictions_test[:,1]"
   ]
  },
  {
   "cell_type": "code",
   "execution_count": 16,
   "id": "bf9c76d9-24fa-4172-af5a-aaeb0cb37ee4",
   "metadata": {
    "tags": []
   },
   "outputs": [],
   "source": [
    "test_prediction.to_csv('../data/processed/experiment_B_prediction.csv', index=False)"
   ]
  },
  {
   "cell_type": "code",
   "execution_count": 18,
   "id": "85877c16-aef6-47d8-a05f-a4b89b15ded6",
   "metadata": {
    "tags": []
   },
   "outputs": [
    {
     "name": "stdout",
     "output_type": "stream",
     "text": [
      "[master 7a04cd0] End of experiment B, upload csv for submitting to kaggle\n",
      " Committer: Daniel Alexander <danielalexander@Daniels-Mac-mini.local>\n",
      "Your name and email address were configured automatically based\n",
      "on your username and hostname. Please check that they are accurate.\n",
      "You can suppress this message by setting them explicitly. Run the\n",
      "following command and follow the instructions in your editor to edit\n",
      "your configuration file:\n",
      "\n",
      "    git config --global --edit\n",
      "\n",
      "After doing this, you may fix the identity used for this commit with:\n",
      "\n",
      "    git commit --amend --reset-author\n",
      "\n",
      " 1 file changed, 36 insertions(+), 129 deletions(-)\n",
      " rename notebooks/{Experiment B.ipynb => Experiment_B.ipynb} (93%)\n",
      "Enumerating objects: 6, done.\n",
      "Counting objects: 100% (6/6), done.\n",
      "Delta compression using up to 8 threads\n",
      "Compressing objects: 100% (4/4), done.\n",
      "Writing objects: 100% (4/4), 45.84 KiB | 9.17 MiB/s, done.\n",
      "Total 4 (delta 1), reused 0 (delta 0), pack-reused 0\n",
      "remote: Resolving deltas: 100% (1/1), completed with 1 local object.\u001b[K\n",
      "To github.com:daniel-alexandr/adv_ml_application_assignment_1.git\n",
      "   ee25baf..7a04cd0  master -> master\n"
     ]
    }
   ],
   "source": [
    "# !git add .\n",
    "# !git commit -m \"End of experiment B, upload csv for submitting to kaggle\"\n",
    "# !git push"
   ]
  }
 ],
 "metadata": {
  "kernelspec": {
   "display_name": "Python 3 (ipykernel)",
   "language": "python",
   "name": "python3"
  },
  "language_info": {
   "codemirror_mode": {
    "name": "ipython",
    "version": 3
   },
   "file_extension": ".py",
   "mimetype": "text/x-python",
   "name": "python",
   "nbconvert_exporter": "python",
   "pygments_lexer": "ipython3",
   "version": "3.9.13"
  }
 },
 "nbformat": 4,
 "nbformat_minor": 5
}
